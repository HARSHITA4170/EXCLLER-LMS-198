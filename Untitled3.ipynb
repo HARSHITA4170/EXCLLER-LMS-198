{
  "nbformat": 4,
  "nbformat_minor": 0,
  "metadata": {
    "colab": {
      "provenance": [],
      "gpuType": "T4"
    },
    "kernelspec": {
      "name": "python3",
      "display_name": "Python 3"
    },
    "language_info": {
      "name": "python"
    },
    "accelerator": "GPU"
  },
  "cells": [
    {
      "cell_type": "code",
      "execution_count": 16,
      "metadata": {
        "id": "JoGSvK06WkMR"
      },
      "outputs": [],
      "source": [
        "import google.generativeai as genai\n",
        "from google.colab import userdata\n",
        "GOOGLE_API_KEY=userdata.get('GOOGLE_API_KEY')\n",
        "genai.configure(api_key=GOOGLE_API_KEY)"
      ]
    },
    {
      "cell_type": "code",
      "source": [
        "from pickle import TRUE\n",
        "import pathlib\n",
        "import textwrap\n",
        "from IPython.display import display,Markdown\n",
        "def to_markdown(text):\n",
        "  text=text.replace('.',' *')\n",
        "  return Markdown(textwrap.indent(text,'>',predicate=lambda _:TRUE))\n"
      ],
      "metadata": {
        "id": "jmX3CYp1YJj7"
      },
      "execution_count": 17,
      "outputs": []
    },
    {
      "cell_type": "code",
      "source": [
        "import PIL.Image\n",
        "img=PIL.Image.open('image1.jpg')\n",
        "img\n",
        "model=genai.GenerativeModel('gemini-1.5-flash')\n",
        "response=model.generate_content([\"Write a short,engaging blog post based on this picture.It should include a description of the meal in the hoto and talk about my journey meal prepping.\",img],stream=True)\n",
        "response.resolve()"
      ],
      "metadata": {
        "id": "kYdbzwC2YJnS"
      },
      "execution_count": 21,
      "outputs": []
    },
    {
      "cell_type": "code",
      "source": [
        "to_markdown(response.text)"
      ],
      "metadata": {
        "colab": {
          "base_uri": "https://localhost:8080/",
          "height": 478
        },
        "id": "HLsfPnDgYJqH",
        "outputId": "c968565f-35dc-4079-8d94-3397990f8675"
      },
      "execution_count": 22,
      "outputs": [
        {
          "output_type": "execute_result",
          "data": {
            "text/plain": [
              "<IPython.core.display.Markdown object>"
            ],
            "text/markdown": ">## My Meal Prep Journey: One Delicious Bento Box at a Time!\n>\n>Let's be honest, adulting is hard *  Juggling work, social life, and everything in between often leaves little time for healthy, home-cooked meals *  That's where meal prepping swoops in to save the day (and my waistline!) *\n>\n>This week's conquest?  These gorgeous bento boxes brimming with deliciousness!  Each one is packed with fluffy white rice, tender teriyaki chicken, vibrant orange and red bell peppers, and a generous helping of steamed broccoli *  It's a flavour explosion in every bite, a perfect balance of protein, carbs, and veggies to keep me energized throughout the day *\n>\n>My meal prep journey hasn't been a straight shot to success *  There were early attempts involving questionable flavor combinations (let's just say, the \"experimental lentil loaf\" was a write-off) *  There were days I felt overwhelmed by the sheer thought of prepping for an entire week *  But I persevered *  I learned to plan ahead, to streamline my cooking process, and to embrace the joy of creating healthy and tasty meals that fit seamlessly into my busy schedule *\n>\n>\n>Now, prepping isn't just a chore; it's a therapeutic act *  The satisfaction of opening my fridge to a rainbow of ready-to-go meals is unparalleled *  It saves money, reduces food waste, and most importantly, ensures I’m eating nutritious food even when I’m short on time *\n>\n>So, here's to embracing the prep life! What are your favourite meal prep tips and tricks? Share them in the comments below!\n"
          },
          "metadata": {},
          "execution_count": 22
        }
      ]
    },
    {
      "cell_type": "code",
      "source": [
        "response=model.generate_content([\"Generate an accurate caption for this image.\",img])\n",
        "print(response.text)"
      ],
      "metadata": {
        "colab": {
          "base_uri": "https://localhost:8080/",
          "height": 402
        },
        "id": "S4sDVcYXYJtK",
        "outputId": "034c6c30-e664-4cc6-d3cd-28389bf0d2cb"
      },
      "execution_count": 23,
      "outputs": [
        {
          "output_type": "stream",
          "name": "stdout",
          "text": [
            "Here are a few caption options for the image of two containers of food:\n",
            "\n",
            "**Option 1 (Simple & Descriptive):**\n",
            "\n",
            "> Healthy and delicious meal prep!  Chicken, broccoli, carrots, and rice. Ready for the week!\n",
            "\n",
            "**Option 2 (Slightly More Engaging):**\n",
            "\n",
            "> Lunch goals! 💪 These chicken and veggie bowls are packed with flavor and perfect for a quick and healthy meal.  #mealprep #healthyfood #lunchideas\n",
            "\n",
            "**Option 3 (Focus on Convenience):**\n",
            "\n",
            "> Easy weeknight dinners just got easier.  Meal prepping doesn't have to be complicated.  #mealprepsunday #healthylifestyle #convenience\n",
            "\n",
            "**Option 4 (Question to Engage Audience):**\n",
            "\n",
            "> What's your favorite meal prep recipe?  These chicken and veggie bowls are definitely a top contender!  #mealprepideas #healthymeals #foodprep\n",
            "\n",
            "\n",
            "Choose the caption that best fits the overall tone and style of your social media presence.\n",
            "\n"
          ]
        }
      ]
    },
    {
      "cell_type": "code",
      "source": [
        "from PIL import Image\n",
        "image_path=\"girl.jpg\"\n",
        "image=Image.open(image_path)\n",
        "response=model.generate_content([\"Describe this image in detail.\",image])\n",
        "print(response.text)"
      ],
      "metadata": {
        "colab": {
          "base_uri": "https://localhost:8080/",
          "height": 297
        },
        "id": "8Tu7okHJYJwP",
        "outputId": "c208b9ab-203a-4d1d-fc7b-30c62fe34c34"
      },
      "execution_count": 26,
      "outputs": [
        {
          "output_type": "stream",
          "name": "stdout",
          "text": [
            "Here's a description of the image:\n",
            "\n",
            "Close-up view of a woman with shoulder-length, curly brown hair. \n",
            "\n",
            "\n",
            "Here's a breakdown of the details:\n",
            "\n",
            "* **The Woman:** She appears to be of South Asian descent, with warm brown skin. She has a friendly and approachable expression, with a slight smile. Her makeup is subtle and natural-looking. She is pointing with her right index finger, gesturing towards something off-camera.\n",
            "\n",
            "* **Her Clothing:** She is wearing a teal or turquoise three-quarter sleeve top or kurta. The top has a small, all-over print in gold, appearing to be a floral or paisley design. The neckline is a simple, slightly open V-neck. The fabric looks light and possibly cotton or a similar material.\n",
            "\n",
            "* **The Background:** The background is a plain, bright white, which keeps the focus entirely on the woman.\n",
            "\n",
            "* **Overall Impression:** The image conveys a feeling of warmth, approachability, and possibly advertising or instructional purpose due to the pointing gesture. The woman appears confident and comfortable. The lighting is even and soft, avoiding harsh shadows.\n",
            "\n"
          ]
        }
      ]
    },
    {
      "cell_type": "code",
      "source": [
        "response=model.generate_content([\"What emotions can you detectin this image.\",image])\n",
        "print(response.text)"
      ],
      "metadata": {
        "colab": {
          "base_uri": "https://localhost:8080/",
          "height": 176
        },
        "id": "Jbqlib0peX3k",
        "outputId": "26348386-ec48-412b-913c-90b139ec4501"
      },
      "execution_count": 27,
      "outputs": [
        {
          "output_type": "stream",
          "name": "stdout",
          "text": [
            "The woman in the image appears to be displaying a mixture of emotions, primarily:\n",
            "\n",
            "* **Happiness/Positivity:** Her smile is genuine and her overall demeanor seems cheerful and approachable.\n",
            "* **Helpfulness/Guidance:** Her pointing gesture suggests she's offering direction or information.  This implies a desire to assist or inform.\n",
            "* **Confidence/Assurance:** Her posture and direct gaze indicate self-assuredness.\n",
            "\n",
            "It's unlikely there are any negative emotions present. The overall impression is one of positive engagement and willingness to share something.\n",
            "\n"
          ]
        }
      ]
    },
    {
      "cell_type": "code",
      "source": [
        "image_path=\"quote.jpg\"\n",
        "image=Image.open(image_path)\n",
        "response=model.generate_content([\"Extract and read the text from this image.\",image])\n",
        "print(response.text)"
      ],
      "metadata": {
        "colab": {
          "base_uri": "https://localhost:8080/",
          "height": 86
        },
        "id": "pSN5GttveX6U",
        "outputId": "d4997a68-9b3b-4f88-ab90-40c39ea3be65"
      },
      "execution_count": 28,
      "outputs": [
        {
          "output_type": "stream",
          "name": "stdout",
          "text": [
            "FAILURE is not the\n",
            "opposite of success\n",
            "it's PART OF\n",
            "SUCCESS\n"
          ]
        }
      ]
    },
    {
      "cell_type": "code",
      "source": [],
      "metadata": {
        "id": "pEvzXeLteX9B"
      },
      "execution_count": null,
      "outputs": []
    },
    {
      "cell_type": "code",
      "source": [],
      "metadata": {
        "id": "SN6dgpvaeX_U"
      },
      "execution_count": null,
      "outputs": []
    },
    {
      "cell_type": "code",
      "source": [],
      "metadata": {
        "id": "s-ksMr1ZeYBz"
      },
      "execution_count": null,
      "outputs": []
    },
    {
      "cell_type": "code",
      "source": [],
      "metadata": {
        "id": "ZZM6kJYWeYEg"
      },
      "execution_count": null,
      "outputs": []
    },
    {
      "cell_type": "code",
      "source": [],
      "metadata": {
        "id": "bhGQyJgQeYG6"
      },
      "execution_count": null,
      "outputs": []
    },
    {
      "cell_type": "code",
      "source": [],
      "metadata": {
        "id": "KrZgJ9P6eYKa"
      },
      "execution_count": null,
      "outputs": []
    },
    {
      "cell_type": "code",
      "source": [],
      "metadata": {
        "id": "PTSxoSA2YJzN"
      },
      "execution_count": null,
      "outputs": []
    },
    {
      "cell_type": "code",
      "source": [],
      "metadata": {
        "id": "YGjIU-9nYJ2R"
      },
      "execution_count": null,
      "outputs": []
    },
    {
      "cell_type": "code",
      "source": [],
      "metadata": {
        "id": "SB8IczECYJ5p"
      },
      "execution_count": null,
      "outputs": []
    }
  ]
}