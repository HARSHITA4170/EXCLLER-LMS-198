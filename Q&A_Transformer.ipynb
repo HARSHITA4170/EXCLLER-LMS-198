{
  "nbformat": 4,
  "nbformat_minor": 0,
  "metadata": {
    "colab": {
      "provenance": [],
      "gpuType": "T4"
    },
    "kernelspec": {
      "name": "python3",
      "display_name": "Python 3"
    },
    "language_info": {
      "name": "python"
    },
    "accelerator": "GPU"
  },
  "cells": [
    {
      "cell_type": "code",
      "execution_count": 3,
      "metadata": {
        "colab": {
          "base_uri": "https://localhost:8080/"
        },
        "id": "l_EqVHG-I7HP",
        "outputId": "9e6c0972-b1ee-4469-9db3-8136bab4258a"
      },
      "outputs": [
        {
          "output_type": "stream",
          "name": "stdout",
          "text": [
            "Requirement already satisfied: nltk in /usr/local/lib/python3.11/dist-packages (3.9.1)\n",
            "Requirement already satisfied: click in /usr/local/lib/python3.11/dist-packages (from nltk) (8.1.8)\n",
            "Requirement already satisfied: joblib in /usr/local/lib/python3.11/dist-packages (from nltk) (1.4.2)\n",
            "Requirement already satisfied: regex>=2021.8.3 in /usr/local/lib/python3.11/dist-packages (from nltk) (2024.11.6)\n",
            "Requirement already satisfied: tqdm in /usr/local/lib/python3.11/dist-packages (from nltk) (4.67.1)\n"
          ]
        }
      ],
      "source": [
        "!pip install nltk"
      ]
    },
    {
      "cell_type": "code",
      "source": [
        "import nltk\n",
        "import re\n",
        "from nltk.chat.util import Chat,reflections"
      ],
      "metadata": {
        "id": "kuG7UqlyI_Az"
      },
      "execution_count": 4,
      "outputs": []
    },
    {
      "cell_type": "code",
      "source": [
        "nltk.download('punkt')\n",
        "nltk.download('averaged_perceptron_tagger')"
      ],
      "metadata": {
        "colab": {
          "base_uri": "https://localhost:8080/"
        },
        "id": "scotXum2JqDO",
        "outputId": "e97cb418-abab-42f7-e919-6876bbcfdb5f"
      },
      "execution_count": 5,
      "outputs": [
        {
          "output_type": "stream",
          "name": "stderr",
          "text": [
            "[nltk_data] Downloading package punkt to /root/nltk_data...\n",
            "[nltk_data]   Unzipping tokenizers/punkt.zip.\n",
            "[nltk_data] Downloading package averaged_perceptron_tagger to\n",
            "[nltk_data]     /root/nltk_data...\n",
            "[nltk_data]   Unzipping taggers/averaged_perceptron_tagger.zip.\n"
          ]
        },
        {
          "output_type": "execute_result",
          "data": {
            "text/plain": [
              "True"
            ]
          },
          "metadata": {},
          "execution_count": 5
        }
      ]
    },
    {
      "cell_type": "code",
      "source": [
        "pairs = [\n",
        "    [r\"my name is (.*)\", [\"Hello %1, how can I assist you today?\"]],\n",
        "    [r\"hi|hey|hello\", [\"Hello, how can I help you?\", \"Hey there! What can I do for you?\", \"Hi! How can I assist you?\"]],\n",
        "    [r\"what is your name?\", [\"I am a chatbot created to assist you. You can call me Chatbot.\"]],\n",
        "    [r\"how are you?\", [\"I'm a bot, so I don't have feelings, but I'm here to help you!\"]],\n",
        "    [r\"can you help me with (.*)\", [\"Sure, I can help you with %1. Please provide more details.\"]],\n",
        "    [r\"sorry (.*)\", [\"It's okay. How can I assist you?\"]],\n",
        "    [r\"thank you|thanks\", [\"You're welcome!\", \"No problem!\", \"Happy to help!\"]],\n",
        "    [r\"quit\", [\"Bye! Have a great day!\", \"Goodbye!\"]],\n",
        "    [r\"(.*)\", [\"I'm sorry, I don't understand that. Can you rephrase?\", \"Could you please elaborate on that?\"]]\n",
        "]"
      ],
      "metadata": {
        "id": "KPy6XEHCKAKx"
      },
      "execution_count": 6,
      "outputs": []
    },
    {
      "cell_type": "code",
      "source": [
        "class RBChatbot:\n",
        "  def __init__(self,pairs):\n",
        "    self.chat=Chat(pairs,reflections)\n",
        "  def respond(self,user_input):\n",
        "    return self.chat.respond(user_input)\n",
        "chatbot=RBChatbot(pairs)"
      ],
      "metadata": {
        "id": "TQYX9E5yKI18"
      },
      "execution_count": 7,
      "outputs": []
    },
    {
      "cell_type": "code",
      "source": [
        "def chat_with_bot():\n",
        "  print(\"Hi,I'm your chatbot.Type 'quit' to exit.\")\n",
        "  while True:\n",
        "    user_input=input(\"You: \")\n",
        "    if user_input.lower()=='quit':\n",
        "      print(\"Chatbot:Bye!Have a great day!\")\n",
        "      break\n",
        "    response=chatbot.respond(user_input)\n",
        "    print(f\"Chatbot:{response}\")\n",
        "chat_with_bot()"
      ],
      "metadata": {
        "colab": {
          "base_uri": "https://localhost:8080/"
        },
        "id": "yM0i7vHZK3Pl",
        "outputId": "10bbcbd9-4cb9-4bb6-a064-48cee09a7c39"
      },
      "execution_count": null,
      "outputs": [
        {
          "output_type": "stream",
          "name": "stdout",
          "text": [
            "Hi,I'm your chatbot.Type 'quit' to exit.\n",
            "You: hii\n",
            "Chatbot:Hey there! What can I do for you?\n",
            "You: my name is harshita\n",
            "Chatbot:Hello harshita, how can I assist you today?\n",
            "You: how are you doing?\n",
            "Chatbot:I'm a bot, so I don't have feelings, but I'm here to help you!\n",
            "You: suggest me a best [lace to visit\n",
            "Chatbot:Could you please elaborate on that?\n",
            "You: pace\n",
            "Chatbot:Could you please elaborate on that?\n",
            "You: place\n",
            "Chatbot:I'm sorry, I don't understand that. Can you rephrase?\n",
            "You: best place to visit\n",
            "Chatbot:I'm sorry, I don't understand that. Can you rephrase?\n",
            "You: shut up\n",
            "Chatbot:Could you please elaborate on that?\n"
          ]
        }
      ]
    },
    {
      "cell_type": "code",
      "source": [
        "from transformers import BertForQuestionAnswering,BertTokenizer\n",
        "import torch\n",
        "model_name=\"deepest/bert-base-cased-squad2\"\n",
        "tokenizer=BertTokenizer.from_pretrained(model_name)\n",
        "BertForQuestionAnswering.from_pretrained(model_name)"
      ],
      "metadata": {
        "id": "BezXoSieK3Sh"
      },
      "execution_count": null,
      "outputs": []
    },
    {
      "cell_type": "code",
      "source": [
        "context=\"\"\"The Eiffel Tower is a wrought-iron lattice tower o the camp de Mars in Paris,France.\n",
        "It is named after the engineer Gustave Eiffel,whose company designed and built the tower.\"\"\"\n",
        "question=\"who designed the Eiffel Tower?\"\n",
        "inputs=tokenizer(question,context,return_tensor=\"pt\")\n",
        "with torch.no_grad():\n",
        "  outputs=model(**inputs)\n",
        "  start_scores=outputs.start_logits\n",
        "  end_scores=outputs.end_logits"
      ],
      "metadata": {
        "id": "_kGh8GzFK3VP"
      },
      "execution_count": null,
      "outputs": []
    },
    {
      "cell_type": "markdown",
      "source": [],
      "metadata": {
        "id": "Soi9bgxfTnhq"
      }
    },
    {
      "cell_type": "code",
      "source": [
        "start_idx=torch.argmax(start_scores)\n",
        "end_idx=torch.argmax(end_scores)\n",
        "answer=tokenizer.convert_tokens_to_string(tokenizer.convert_ids_to_tokens(inputs[\"input_ids\"][0][start_idx:end_idx]))\n",
        "print(f\"Answer:{answer}\")"
      ],
      "metadata": {
        "id": "vpkeWUdGK3YL"
      },
      "execution_count": null,
      "outputs": []
    },
    {
      "cell_type": "code",
      "source": [],
      "metadata": {
        "id": "oEsm7W-dK3bP"
      },
      "execution_count": null,
      "outputs": []
    },
    {
      "cell_type": "code",
      "source": [],
      "metadata": {
        "id": "u5GR7nkeK3eW"
      },
      "execution_count": null,
      "outputs": []
    },
    {
      "cell_type": "code",
      "source": [],
      "metadata": {
        "id": "yzwa1BlRK3hI"
      },
      "execution_count": null,
      "outputs": []
    },
    {
      "cell_type": "code",
      "source": [],
      "metadata": {
        "id": "pPqoxIybNiRs"
      },
      "execution_count": null,
      "outputs": []
    },
    {
      "cell_type": "code",
      "source": [],
      "metadata": {
        "id": "QU0EfZasK3jv"
      },
      "execution_count": null,
      "outputs": []
    },
    {
      "cell_type": "code",
      "source": [],
      "metadata": {
        "id": "wf1qxuSXK3m4"
      },
      "execution_count": null,
      "outputs": []
    },
    {
      "cell_type": "code",
      "source": [],
      "metadata": {
        "id": "e3_1QMBfK3pf"
      },
      "execution_count": null,
      "outputs": []
    },
    {
      "cell_type": "code",
      "source": [],
      "metadata": {
        "id": "4NtKpyIYK3sJ"
      },
      "execution_count": null,
      "outputs": []
    },
    {
      "cell_type": "code",
      "source": [],
      "metadata": {
        "id": "k3C3cV1iK3vG"
      },
      "execution_count": null,
      "outputs": []
    },
    {
      "cell_type": "code",
      "source": [],
      "metadata": {
        "id": "Sf2fbTABK3ym"
      },
      "execution_count": null,
      "outputs": []
    }
  ]
}