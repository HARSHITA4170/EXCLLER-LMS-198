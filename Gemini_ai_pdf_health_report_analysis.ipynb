{
  "nbformat": 4,
  "nbformat_minor": 0,
  "metadata": {
    "colab": {
      "provenance": [],
      "gpuType": "T4"
    },
    "kernelspec": {
      "name": "python3",
      "display_name": "Python 3"
    },
    "language_info": {
      "name": "python"
    },
    "accelerator": "GPU"
  },
  "cells": [
    {
      "cell_type": "code",
      "execution_count": 1,
      "metadata": {
        "id": "GbifpNRFODEW"
      },
      "outputs": [],
      "source": [
        "import google.generativeai as genai\n",
        "from google.colab import userdata\n",
        "GOOGLE_API_KEY=userdata.get('GOOGLE_API_KEY')\n",
        "genai.configure(api_key=GOOGLE_API_KEY)"
      ]
    },
    {
      "cell_type": "code",
      "source": [
        "pip install PyPDF2"
      ],
      "metadata": {
        "colab": {
          "base_uri": "https://localhost:8080/"
        },
        "id": "MX2IqR9wOf2w",
        "outputId": "231bdbae-a549-4ba4-a4e3-438f06ab66e5"
      },
      "execution_count": 2,
      "outputs": [
        {
          "output_type": "stream",
          "name": "stdout",
          "text": [
            "Collecting PyPDF2\n",
            "  Downloading pypdf2-3.0.1-py3-none-any.whl.metadata (6.8 kB)\n",
            "Downloading pypdf2-3.0.1-py3-none-any.whl (232 kB)\n",
            "\u001b[?25l   \u001b[90m━━━━━━━━━━━━━━━━━━━━━━━━━━━━━━━━━━━━━━━━\u001b[0m \u001b[32m0.0/232.6 kB\u001b[0m \u001b[31m?\u001b[0m eta \u001b[36m-:--:--\u001b[0m\r\u001b[2K   \u001b[91m━━━━━━━━━━━━━━━━━━━━━━━━━━━━━━━━━━━━━━\u001b[0m\u001b[91m╸\u001b[0m\u001b[90m━\u001b[0m \u001b[32m225.3/232.6 kB\u001b[0m \u001b[31m7.0 MB/s\u001b[0m eta \u001b[36m0:00:01\u001b[0m\r\u001b[2K   \u001b[90m━━━━━━━━━━━━━━━━━━━━━━━━━━━━━━━━━━━━━━━━\u001b[0m \u001b[32m232.6/232.6 kB\u001b[0m \u001b[31m3.4 MB/s\u001b[0m eta \u001b[36m0:00:00\u001b[0m\n",
            "\u001b[?25hInstalling collected packages: PyPDF2\n",
            "Successfully installed PyPDF2-3.0.1\n"
          ]
        }
      ]
    },
    {
      "cell_type": "code",
      "source": [
        "import PyPDF2\n",
        "def extract_text_from_pdf(pdf_path):\n",
        "  \"\"\"Extracts text from a given health report PDF using PyPDF2.\"\"\"\n",
        "  text=\"\"\n",
        "  with open(pdf_path,\"rb\") as file:\n",
        "    reader=PyPDF2.PdfReader(file)\n",
        "    for page in reader.pages:\n",
        "      text+=page.extract_text()+\"\\n\"\n",
        "  return text"
      ],
      "metadata": {
        "id": "7eDFIK7-Of53"
      },
      "execution_count": 4,
      "outputs": []
    },
    {
      "cell_type": "code",
      "source": [
        "def extract_health_insights(text):\n",
        "  model=genai.GenerativeModel(\"gemini-1.5-flash\")\n",
        "  prompt=f\"Extract key insights from the following health report:\\n\\n{text}\"\n",
        "  response=model.generate_content(prompt)\n",
        "  return response.text\n",
        "pdf_file=\"health_report.pdf\"\n",
        "extracted_text=extract_text_from_pdf(pdf_file)\n",
        "insights=extract_health_insights(extracted_text)\n",
        "print(\"Key insights:\\n\",insights)"
      ],
      "metadata": {
        "colab": {
          "base_uri": "https://localhost:8080/",
          "height": 540
        },
        "id": "94KpgZF-Of_m",
        "outputId": "11d4fc0c-0b7f-4e88-ceb2-822b29ac2076"
      },
      "execution_count": 6,
      "outputs": [
        {
          "output_type": "stream",
          "name": "stdout",
          "text": [
            "Key insights:\n",
            " The report shows the results of various tests conducted on Mr. Kishan Goud (MR Number: MR2100003157) on February 1st, 2021.  Here's a summary of key insights:\n",
            "\n",
            "**Infectious Diseases:**\n",
            "\n",
            "* **Widal Test:** Elevated titers for *Salmonella Typhi* \"O\" (1:160) and \"H\" (1:80) suggest a possible past or present *Salmonella Typhi* infection.  *S. Paratyphi* AH and BH titers are within the normal range.  The interpretation requires clinical correlation as these antibodies can persist for prolonged periods.\n",
            "* **Dengue Serology:** Negative results for Dengue NS1 antigen, IgG, and IgM antibodies indicate no evidence of current or recent dengue fever infection.\n",
            "* **Malaria:** Rapid malaria test for *Plasmodium falciparum* and *Plasmodium vivax* were both negative.\n",
            "\n",
            "\n",
            "**Hematology:**\n",
            "\n",
            "* **Complete Blood Picture (CBC):**  All blood parameters (Hemoglobin, RBC, WBC, Platelets, PCV) are within the normal range. Differential count also shows normal ranges of neutrophils, lymphocytes, eosinophils, monocytes, and basophils. The peripheral blood smear showed normal RBC morphology and WBC and platelet counts within normal limits.\n",
            "* **Erythrocyte Sedimentation Rate (ESR):** Elevated ESR (26 mm/hr in the first hour, 52 mm/hr in the second hour). This indicates inflammation in the body, but the cause needs further investigation as it's non-specific.\n",
            "\n",
            "\n",
            "**Blood Chemistry:**\n",
            "\n",
            "* **Liver Function Tests (LFTs):** All liver function parameters (bilirubin, alkaline phosphatase, SGOT, SGPT, total protein, albumin, globulin, A/G ratio) are within normal limits, indicating no significant liver dysfunction.\n",
            "* **Serum Electrolytes:** Sodium is slightly below the normal range (122 mmol/l), while potassium and chloride are within normal limits. Low sodium levels warrant further investigation to determine the cause.\n",
            "* **Random Blood Glucose:** Within the normal range.\n",
            "* **HbA1c:**  Within the normal non-diabetic range, indicating good blood glucose control.\n",
            "* **Serum Creatinine:**  Within the normal range, indicating normal kidney function.\n",
            "\n",
            "\n",
            "**Overall:**\n",
            "\n",
            "While some results like the elevated ESR and slightly low sodium require further investigation and clinical correlation with the patient's symptoms, most of the tests show results within the normal range. The elevated Widal test titers suggest a possible prior *Salmonella Typhi* infection, but this needs to be considered in the context of the patient's clinical presentation.  The negative results for dengue and malaria rule out these infections.\n",
            "\n"
          ]
        }
      ]
    },
    {
      "cell_type": "code",
      "source": [
        "def summarize_health_report(text):\n",
        "  model=genai.GenerativeModel(\"gemini-1.5-flash\")\n",
        "  prompt=f\"Summarize the following health report:\\n\\n{text}\"\n",
        "  response=model.generate_content(prompt)\n",
        "  return response.text\n",
        "summary=summarize_health_report(extracted_text)\n",
        "print(\"Summary: \\n\",summary)\n",
        "\n"
      ],
      "metadata": {
        "colab": {
          "base_uri": "https://localhost:8080/",
          "height": 488
        },
        "id": "ifSI_9ndQ19I",
        "outputId": "35b99c3e-7084-4ce5-9534-3683069c9cff"
      },
      "execution_count": 7,
      "outputs": [
        {
          "output_type": "stream",
          "name": "stdout",
          "text": [
            "Summary: \n",
            " This is a comprehensive health report for Mr. Kishan Goud (MR2100003157), a 56-year-old male, conducted on February 1st, 2021.  The report includes several tests:\n",
            "\n",
            "* **Widal Test:**  Elevated titers for *Salmonella Typhi* \"O\" (1:160) and \"H\" (1:80) suggest possible past or present typhoid infection.  *Salmonella Paratyphi* \"AH\" and \"BH\" titers were within the normal range.\n",
            "\n",
            "* **Dengue Serology:**  Negative results for Dengue NS1 antigen, IgG, and IgM antibodies indicate no current or recent dengue fever infection.\n",
            "\n",
            "* **Erythrocyte Sedimentation Rate (ESR):** Elevated (26 mm/hr in the first hour, 52 mm/hr in the second), suggesting possible inflammation.\n",
            "\n",
            "* **Rapid Malaria Test:** Negative for both *Plasmodium falciparum* and *Plasmodium vivax*.\n",
            "\n",
            "* **Complete Blood Picture (CBC):**  All values (hemoglobin, RBC, WBC, platelets, PCV, and differential count) were within normal limits, except for slightly low platelets (2.0 lakhs/cumm, lower end of normal range).\n",
            "\n",
            "* **HbA1c:**  Within the normal non-diabetic range (5.4%), indicating good blood sugar control.\n",
            "\n",
            "* **Serum Creatinine:** Within the normal range (0.8 mg/dl), indicating normal kidney function.\n",
            "\n",
            "* **Random Blood Glucose:**  Not explicitly stated, but assumed to be within the normal range (60-170 mg/dl) based on the lack of comment.\n",
            "\n",
            "* **Liver Function Test (LFT):** All values (bilirubin – total, direct, and indirect; alkaline phosphatase; SGOT; SGPT; total protein; albumin; globulin; A/G ratio) were within the normal range.\n",
            "\n",
            "* **Serum Electrolytes:** Sodium (122 mmol/l) was slightly low (below the normal range of 135-146 mmol/l), while potassium and chloride were within normal limits.\n",
            "\n",
            "\n",
            "**In summary:**  The report shows some indications of past or possible current infection (elevated Widal and ESR), but most other tests, including those for dengue and malaria, show negative results.  The patient's CBC, LFT, and HbA1c are largely unremarkable, although sodium levels are slightly low and warrant further investigation. The slightly low platelet count might also need to be further assessed.  The overall interpretation requires clinical correlation by Dr. Krishna Prasad.\n",
            "\n"
          ]
        }
      ]
    },
    {
      "cell_type": "code",
      "source": [
        "def detect_abnormalities(text):\n",
        "    \"\"\"Analyzes lab test results and flags abnormal values.\"\"\"\n",
        "    model = genai.GenerativeModel(\"gemini-1.5-flash\")\n",
        "    prompt = f\"Analyze the lab test results in the following health report and highlight any abnormal values:\\n\\n{text}\"\n",
        "    response = model.generate_content(prompt)\n",
        "    return response.text\n",
        "abnormalities = detect_abnormalities(extracted_text)\n",
        "print(\"Potential Abnormalities:\\n\",abnormalities)"
      ],
      "metadata": {
        "colab": {
          "base_uri": "https://localhost:8080/",
          "height": 349
        },
        "id": "uJz90Ec-Q2Ad",
        "outputId": "8174d93c-45c3-40c6-904a-5821b799bfad"
      },
      "execution_count": 9,
      "outputs": [
        {
          "output_type": "stream",
          "name": "stdout",
          "text": [
            "Potential Abnormalities:\n",
            " Based on the provided lab results, the following values are outside the reference ranges, indicating potential abnormalities:\n",
            "\n",
            "* **Widal Test:**  S. Typhi \"O\" (1:160) and S. Typhi \"H\" (1:80) are significantly higher than the reference range (1:20). This suggests a possible *Salmonella Typhi* infection (typhoid fever), though further investigation is needed to confirm.  The titers are elevated, indicating past or present infection. The higher O agglutination titer than H may suggest a recent infection.\n",
            "\n",
            "* **ESR (Erythrocyte Sedimentation Rate):** Both the 1st hour (26 mm/hr) and 2nd hour (52 mm/hr) values are significantly elevated compared to the reference range (0-8 mm/hr for the 1st hour).  This indicates inflammation or infection somewhere in the body.\n",
            "\n",
            "* **Serum Sodium:**  122 mmol/l is below the reference range of 135-146 mmol/l. This indicates hyponatremia (low sodium levels in the blood), which can have various causes and requires further evaluation.\n",
            "\n",
            "* **Serum Chloride:** 97 mmol/l is below the reference range of 98-107 mmol/l.  This is mild hypochloremia (low chloride levels) and may be related to the hyponatremia.\n",
            "\n",
            "**Values within or near the lower end of the reference range:**\n",
            "\n",
            "* **RBC (Red Blood Cell count):** 4.3 mill/cumm is at the lower end of the normal range (4.5-5.5).  While still within the range, it warrants monitoring, especially in conjunction with other findings.\n",
            "* **Platelet Count:** 2.0 lakhs/cumm is at the lower end of the normal range (1.5-4.5).  This is borderline low, and again, needs monitoring given other findings.\n",
            "\n",
            "**Important Note:**  This analysis is based solely on the lab results provided.  It is crucial to consider these results in the context of the patient's complete medical history, physical examination findings, and clinical presentation.  This is not a diagnosis, but rather a highlight of values that need further medical attention and investigation by a healthcare professional.  The elevated Widal test and ESR strongly suggest an infection, and the electrolyte imbalances require further evaluation to determine their cause.\n",
            "\n"
          ]
        }
      ]
    },
    {
      "cell_type": "code",
      "source": [
        "def explain_medical_terms(text):\n",
        "    model = genai.GenerativeModel('gemini-1.5-flash')\n",
        "    prompt = f\"Explain the medical terms in the following health report in simple language:\\n\\n{text}\"\n",
        "    response = model.generate_content(prompt)\n",
        "    return response.text\n",
        "explanation = explain_medical_terms(extracted_text)\n",
        "print(\"Simplified Explanation:\\n\",explanation)"
      ],
      "metadata": {
        "colab": {
          "base_uri": "https://localhost:8080/",
          "height": 992
        },
        "id": "o_r3PPscQ2EC",
        "outputId": "8edf97fa-54f8-44b1-c293-9f1eae345943"
      },
      "execution_count": 10,
      "outputs": [
        {
          "output_type": "stream",
          "name": "stdout",
          "text": [
            "Simplified Explanation:\n",
            " This report shows the results of several blood tests performed on Mr. Kishan Goud. Let's break down each section:\n",
            "\n",
            "\n",
            "**1. WIDAL Test:** This test checks for antibodies against *Salmonella Typhi* and *Salmonella Paratyphi*, bacteria that cause typhoid fever and paratyphoid fever.  The numbers (e.g., 1:160) represent the dilution of the sample at which antibodies were still detectable.  Higher numbers generally suggest a greater likelihood of infection.  In Mr. Goud's case:\n",
            "\n",
            "* **S. Typhi \"O\" 1:160:**  Suggests a possible past or present infection with *Salmonella Typhi*.\n",
            "* **S. Typhi \"H\" 1:80:** Also suggests a possible past or present infection with *Salmonella Typhi*.\n",
            "* **S. Paratyphi \"AH\" 1:20:**  Within the normal range, suggesting no current infection with *Salmonella Paratyphi* AH.\n",
            "* **S. Paratyphi \"BH\" 1:20:** Within the normal range, suggesting no current infection with *Salmonella Paratyphi* BH.\n",
            "\n",
            "**Important Note:** The Widal test can give false positives or negatives, and further tests would usually be needed to confirm a typhoid diagnosis.\n",
            "\n",
            "\n",
            "**2. Dengue Serology:**  This tests for dengue fever, a viral infection spread by mosquitoes.  All three tests (NS1 antigen, IgG, and IgM) were negative, meaning no evidence of current or recent dengue infection was found.\n",
            "\n",
            "\n",
            "**3. Erythrocyte Sedimentation Rate (ESR):** This measures how quickly red blood cells settle at the bottom of a test tube. A higher ESR can indicate inflammation in the body. Mr. Goud's ESR is elevated (26 mm/hr in the first hour, 52 mm/hr in the second), which suggests the presence of inflammation.  Further investigation is needed to determine the cause.\n",
            "\n",
            "\n",
            "**4. Rapid Malaria Test:**  This quickly checks for malaria parasites in the blood. Both *Plasmodium falciparum* (P.F.) and *Plasmodium vivax* (P.V.) tests were negative, indicating no malaria infection.\n",
            "\n",
            "\n",
            "**5. Complete Blood Picture (CBP):** This is a comprehensive blood test that provides information about various blood components:\n",
            "\n",
            "* **Hemoglobin (Hb):**  13.6 g/dL (within the normal range).  This measures the amount of oxygen-carrying protein in the blood.\n",
            "* **Red Blood Cells (RBC):** 4.3 million/cu mm (slightly low, but within the acceptable range). These cells carry oxygen.\n",
            "* **White Blood Cells (WBC):** 7,200 cells/cu mm (within the normal range). These cells fight infection.\n",
            "* **Platelet Count:** 2.0 lakhs/cu mm (within the normal range). These cells help with blood clotting.\n",
            "* **Packed Cell Volume (PCV):** 40.5% (within the normal range). This is the percentage of red blood cells in the blood.\n",
            "* **Differential Count:** This breaks down the types of white blood cells. All are within normal limits.\n",
            "* **Peripheral Blood Smear:** A microscopic examination of the blood; results indicate normal red blood cells, white blood cells within normal limits, and adequate platelets.\n",
            "\n",
            "\n",
            "**6. HbA1c:** This test measures average blood sugar levels over the past 2-3 months. Mr. Goud's level (5.4%) is within the normal range for someone without diabetes.\n",
            "\n",
            "\n",
            "**7. Serum Creatinine:** This measures kidney function.  Mr. Goud's level (0.8 mg/dL) is within the normal range.\n",
            "\n",
            "\n",
            "**8. Random Blood Glucose:** This measures blood sugar at a single point in time.  Mr. Goud's level is within the normal range.\n",
            "\n",
            "\n",
            "**9. Liver Function Test (LFT):**  These tests assess liver health:\n",
            "\n",
            "* **Total Bilirubin, Direct Bilirubin, Indirect Bilirubin:** All within normal limits, indicating no liver damage or blockage.\n",
            "* **Alkaline Phosphatase (ALP), SGOT (AST), SGPT (ALT):** All within normal ranges, suggesting normal liver function.\n",
            "* **Total Protein, Albumin, Globulin, A/G Ratio:** All within normal ranges.\n",
            "\n",
            "\n",
            "**10. Serum Electrolytes:** These tests measure the levels of sodium, potassium, and chloride in the blood, which are essential for various bodily functions.  Sodium is slightly low, while potassium and chloride are within normal limits.\n",
            "\n",
            "\n",
            "**Overall:**  The report shows some markers of inflammation (elevated ESR), but most other tests are within normal limits.  The slightly low sodium level warrants further investigation.  The Widal test suggests possible past or present typhoid infection but needs further confirmation.  The doctor needs to consider all of these results together to determine the cause of Mr. Goud's symptoms and plan appropriate treatment.  This explanation is for informational purposes only and should not be considered medical advice.  Mr. Goud should discuss the results with his doctor.\n",
            "\n"
          ]
        }
      ]
    },
    {
      "cell_type": "code",
      "source": [
        "def ask_gemini_about_report(text,question):\n",
        "  \"\"\"Allows users to ask questions about their health report.\"\"\"\n",
        "  model=genai.GenerativeModel(\"gemini-1.5-flash\")\n",
        "  prompt=f\"The following is a health report:\\n\\n{text}\\n\\nAnswer the following question based on the report:\\n{question}\"\n",
        "  response=model.generate_content(prompt)\n",
        "  return response.text\n",
        "question=\"What is the patient's diagnosis?\"\n",
        "answer=ask_gemini_about_report(extracted_text,question)\n",
        "print(\"Answer:\\n\",answer)"
      ],
      "metadata": {
        "colab": {
          "base_uri": "https://localhost:8080/",
          "height": 89
        },
        "id": "vFB-u6QiWx1G",
        "outputId": "81764e11-9eb4-4fd8-ade4-7e579096c9db"
      },
      "execution_count": 14,
      "outputs": [
        {
          "output_type": "stream",
          "name": "stdout",
          "text": [
            "Answer:\n",
            " The provided lab report does not offer a diagnosis.  It presents the results of various tests, some showing values outside of the normal range (e.g., elevated ESR).  However, these results alone are insufficient to make a diagnosis. A diagnosis requires clinical evaluation by a physician considering the patient's symptoms, medical history, and these lab results in context.\n",
            "\n"
          ]
        }
      ]
    },
    {
      "cell_type": "code",
      "source": [],
      "metadata": {
        "id": "rvOyvoVSWx4g"
      },
      "execution_count": null,
      "outputs": []
    },
    {
      "cell_type": "code",
      "source": [],
      "metadata": {
        "id": "uzIIpjpmWyBg"
      },
      "execution_count": null,
      "outputs": []
    },
    {
      "cell_type": "code",
      "source": [],
      "metadata": {
        "id": "P54jlrg_WyLz"
      },
      "execution_count": null,
      "outputs": []
    },
    {
      "cell_type": "code",
      "source": [],
      "metadata": {
        "id": "TTIb30BuOgCd"
      },
      "execution_count": null,
      "outputs": []
    },
    {
      "cell_type": "code",
      "source": [],
      "metadata": {
        "id": "zzXlMhhBOgF0"
      },
      "execution_count": null,
      "outputs": []
    },
    {
      "cell_type": "code",
      "source": [],
      "metadata": {
        "id": "l_8oc61bOgI2"
      },
      "execution_count": null,
      "outputs": []
    },
    {
      "cell_type": "code",
      "source": [],
      "metadata": {
        "id": "mEEsUkuzOgMZ"
      },
      "execution_count": null,
      "outputs": []
    }
  ]
}